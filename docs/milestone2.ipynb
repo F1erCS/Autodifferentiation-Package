{
 "cells": [
  {
   "cell_type": "markdown",
   "metadata": {},
   "source": [
    "# Milestone 2\n"
   ]
  },
  {
   "cell_type": "markdown",
   "metadata": {},
   "source": [
    "### Introduction\n",
    "\n",
    "Every computer program, at it's most elementary form, can be boiled down to a series of basic arithmetic operations and functions. From the definition of the derivative, we know that we can __always__ calculate it by applying the chain rule repeatedly across the function. Therefore, we can find the derivative of every single function by applying automatic differentiation.\n",
    "\n",
    "Automatic differentiation is necessary, because other forms of differentiation (namely, symbolic and numerical) have difficulties with converting a computer program into a single full mathematical expression, which automatic differentiation does not struggle with."
   ]
  },
  {
   "cell_type": "markdown",
   "metadata": {},
   "source": [
    "### Background\n",
    "\n",
    "The whole point of automatic differentiation is to break down complex problems into digestable chunks, but there are a few mathematical concepts you will need to be familiar with to understand our implementation.\n",
    "\n",
    "##### <u>Chain Rule:</u>\n",
    "The Chain Rule is essential when calcluating derivative and is taught in introductory calculus classes around the world. The chain rule is as follows:\n",
    "$$\\frac{dy}{dx}=\\frac{dy}{du}*\\frac{du}{dx}$$\n",
    "Essentially, when you take the derivative of a function, you must take into consideration the derivatives of its inputs. Giving an example with real numbers:\n",
    "$$y=e^{x^2}$$\n",
    "$$\\frac{dy}{dx}=e^{x^2}2x$$\n",
    "\n",
    "##### <u>Graph Structure of Calculations:</u>\n",
    "Using a graph structure is a helpful way to visualize a complicated function and the steps that are required to evaluate it. Constructing a graph is simple, and it will be helpful to look at an example:\n",
    "\n",
    "\n",
    "![](graph.png)\n",
    "\n",
    "We start by initalizing the first nodes to our inputs. As we trace across edges between nodes, we evaluate the given functions using the one or more nodes that are the origin(s) of a specific edge. As we make our way across the graph, we will complete all steps needed to evaluate the complicated function and eventually be left with its overall output in the graph's final node.\n",
    "\n",
    "\n",
    "##### <u>Elementary Functions:</u>\n",
    "1. A background in functions that are common in mathematics is also necessary to understand this project. Of course, the four elementary functions $+, -, *,$ and $/$ will be present throughout.\n",
    "2. Trigonometric functions are also important to know and understand, these being $sin(x)$ and $cos(x)$. These functions oscilate between $-1$ and $1$ in sinusoidal curves. It might be important to note that:\n",
    "$$\\frac{d}{dx} sin(x) = cos(x)$$\n",
    "$$\\frac{d}{dx} cos(x) = -sin(x)$$\n",
    "3. Raising a number to a power is another operations we will need in this project. That includes raising a number to negative powers or a power between $0$ and $1$. Note that variables can exist in either the base (rational powers of $x$) or in the exponent (exponential functions).\n",
    "4. Finally, logaritms might be present in our project. Logrithms have a base and an input. If $b$ is your base, $n$ is your input, and $x$ is your output then:\n",
    "$$x = log_b n$$\n",
    "$$b^x = n$$\n",
    "\n",
    "##### <u>Constants:</u>\n",
    "The constant $e$, Euler's number, might come up as well. $e\\approx 2.72$ and appears in many functions. For example, $e$ is the base of a natural-log.\n",
    "\n",
    "The constant $\\pi$ is also very important. $\\pi \\approx 3.14$"
   ]
  },
  {
   "cell_type": "markdown",
   "metadata": {},
   "source": [
    "### How to Use\n",
    "####  How To Install\n",
    "Our package will be available for download using the command `python3 -m pip install -i https://test.pypi.org/simple/cs107-team38-ad`.\n",
    "\n",
    "#### How to operate\n",
    "After a user has installed our package, they can differentiate functions simply using the `grad` function. A basic demo can be found below:"
   ]
  },
  {
   "cell_type": "code",
   "execution_count": 1,
   "metadata": {},
   "outputs": [
    {
     "ename": "ModuleNotFoundError",
     "evalue": "No module named 'numpy'",
     "output_type": "error",
     "traceback": [
      "\u001b[0;31m---------------------------------------------------------------------------\u001b[0m",
      "\u001b[0;31mModuleNotFoundError\u001b[0m                       Traceback (most recent call last)",
      "Cell \u001b[0;32mIn [1], line 3\u001b[0m\n\u001b[1;32m      1\u001b[0m \u001b[39mimport\u001b[39;00m \u001b[39msys\u001b[39;00m\n\u001b[1;32m      2\u001b[0m sys\u001b[39m.\u001b[39mpath\u001b[39m.\u001b[39mappend(\u001b[39m\"\u001b[39m\u001b[39m../autodiff_package/\u001b[39m\u001b[39m\"\u001b[39m)\n\u001b[0;32m----> 3\u001b[0m \u001b[39mimport\u001b[39;00m \u001b[39mdifferentiate\u001b[39;00m \u001b[39mas\u001b[39;00m \u001b[39mad\u001b[39;00m\n\u001b[1;32m      5\u001b[0m \u001b[39m# inputs from the user\u001b[39;00m\n\u001b[1;32m      6\u001b[0m val \u001b[39m=\u001b[39m \u001b[39m1\u001b[39m\n",
      "File \u001b[0;32m~/Desktop/Harvard/3/cs107/team38/docs/../autodiff_package/differentiate.py:1\u001b[0m\n\u001b[0;32m----> 1\u001b[0m \u001b[39mfrom\u001b[39;00m \u001b[39mdualnums\u001b[39;00m \u001b[39mimport\u001b[39;00m DualNumber\n\u001b[1;32m      3\u001b[0m \u001b[39mdef\u001b[39;00m \u001b[39mgrad\u001b[39m(fun, val):\n\u001b[1;32m      4\u001b[0m     \u001b[39m\"\"\"\u001b[39;00m\n\u001b[1;32m      5\u001b[0m \u001b[39m    Calculate the derivative of a function evaluated at a specific point\u001b[39;00m\n\u001b[1;32m      6\u001b[0m \u001b[39m    Parameters\u001b[39;00m\n\u001b[0;32m   (...)\u001b[0m\n\u001b[1;32m     15\u001b[0m \u001b[39m        A dual number with the evaluated function as its real and the evaluated derivative as its dual\u001b[39;00m\n\u001b[1;32m     16\u001b[0m \u001b[39m    \"\"\"\u001b[39;00m \n",
      "File \u001b[0;32m~/Desktop/Harvard/3/cs107/team38/docs/../autodiff_package/dualnums.py:1\u001b[0m\n\u001b[0;32m----> 1\u001b[0m \u001b[39mimport\u001b[39;00m \u001b[39mnumpy\u001b[39;00m \u001b[39mas\u001b[39;00m \u001b[39mnp\u001b[39;00m\n\u001b[1;32m      3\u001b[0m \u001b[39mclass\u001b[39;00m \u001b[39mDualNumber\u001b[39;00m:\n\u001b[1;32m      5\u001b[0m     \u001b[39mdef\u001b[39;00m \u001b[39m__init__\u001b[39m(\u001b[39mself\u001b[39m, real, dual\u001b[39m=\u001b[39m\u001b[39m1\u001b[39m):\n",
      "\u001b[0;31mModuleNotFoundError\u001b[0m: No module named 'numpy'"
     ]
    }
   ],
   "source": [
    "import sys\n",
    "sys.path.append(\"../autodiff_package/\")\n",
    "import differentiate as ad\n",
    "\n",
    "# inputs from the user\n",
    "val = 1\n",
    "fun = lambda x: 3.0 * x * x + 2.5 * x + 2.0\n",
    "\n",
    "#function call\n",
    "answer = ad.grad(fun, val)\n",
    "\n",
    "# printing answers\n",
    "print(f'The function evaluated at {val} equals: {answer.real}')\n",
    "print(f'The derivative of the function evaluated at {val} equals: {answer.dual}')"
   ]
  },
  {
   "cell_type": "markdown",
   "metadata": {},
   "source": [
    "In this example, a user has evaluated the function $3x^2+2.5x+2$ and its derivative at $x=1$. Our function correctly calculates the values $7.5$ and $8.5$."
   ]
  },
  {
   "cell_type": "markdown",
   "metadata": {},
   "source": [
    "### Software Organization\n",
    "\n",
    "Our current organization in our team38 repository (which will eventually be the root directory of the package) is set up to be:\n",
    "```\n",
    "team38\n",
    "├── LICENSE\n",
    "├── README.md\n",
    "├── docs\n",
    "│   ├── graph.png\n",
    "│   ├── milestone1.md\n",
    "│   ├── milestone2_progress.md\n",
    "│   └── milestone2.ipynb\n",
    "├── pyproject.toml\n",
    "├── setup.cfg\n",
    "├── autodiff_package\n",
    "│   ├── __init__.py\n",
    "│   ├── __main__.py\n",
    "│   ├── differentiate.py\n",
    "│   ├── dualnums.py\n",
    "│   └── node.py\n",
    "└── tests\n",
    "    ├── run_tests.sh\n",
    "    ├── test_differentiate.py\n",
    "    ├── test_dualnums.py\n",
    "    └── test_node.py\n",
    "```\n",
    "\n",
    "The autodiff_package directory is where the actual package logic will end up happening, which includes the node and dualnums modules, as well as the differentiate file which will allow us to step through each part of the graph. We also add __init__.py which is where we will run any functions that need to happen when the module's name is called. Additionally, the __init__.py file lets python know that this is in fact a package. \n",
    "\n",
    "Additionally, we have a tests directory which 1:1 mirrors the package, which allows us to take advantage of python's unit testing as well. These tests are run similar to HW4, using continuous integration, GitHub Actions, and our yml file.\n",
    "\n",
    "A guide on how a user can install our package was a requirement for the Software Organization section, but this was previously covered in How to Use."
   ]
  },
  {
   "cell_type": "markdown",
   "metadata": {},
   "source": [
    "### Current Implementation\n",
    "\n",
    "Our implementation is pretty succint and is much simpler than what all of us expected when we first started this project.\n",
    "\n",
    "The function that the general public is `grad()`, located in differentiate.py. This function inputs a function to be differentiated as well as a value to evaluate the derivative at.\n",
    "\n",
    "Our function immediately creates a dual number with our inputted value, using the `DualNumber` class we wrote in dualnums.py. This class covers any math that might be present in the inputted function, including elementary functions, trig functions, powers, and more.\n",
    "\n",
    "After turning the inputted value into a dual number, `grad` plugs it into the inputted function, and our defined dual number functions calculate the function evaluated at that point (real part of the dual number) and the derivative of the function at that point (dual part of the dual number).\n",
    "\n",
    "Our only external dependecy is on the numpy package which is present in many of the functions defined in the `DualNumber` class.\n",
    "\n",
    "Our current implementation can only handle functions with one variable, so that is yet to be implemented. Additionally, we have a few ideas for future features documented in the next section.\n",
    "\n",
    "\n"
   ]
  },
  {
   "cell_type": "markdown",
   "metadata": {},
   "source": [
    "### Continuous Integration\n",
    "\n",
    "Our package has tests written in the team38/tests directory, for the currently implemented ```dualnums``` and ```differentiate``` file. The others don't have code in them so we are not covering them with tests just yet, although they still exist for the future reverse mode implementation. \n",
    "\n",
    "The ```run_tests.sh``` file is also located in that directory, and can either be run with no arguments to run ```pytest``` alone, or with ```bash run_tests.sh coverage``` as an argument, to create the test coverage files. We then use a GitHub action in our code coverage workflow, written in the ```codeCoverage.yml``` file, in order to link the badge to the current coverage amount. The coverage is set to a 90% minimum at this time, for the badge to say \"passed,\" otherwise the workflow failes."
   ]
  },
  {
   "cell_type": "markdown",
   "metadata": {},
   "source": [
    "### Future Features\n",
    "\n",
    "First and foremost, we expect one of our extensions to be the addition of reverse mode. We have learned about this option in class and feel confident that we will be able to implement it ourselves. This feels like the most natural addition to our project and will allow our project to cover more bases in terms of efficency.\n",
    "\n",
    "Reverse mode is different from forward mode as it traverses a computation graph once and then computes the gradient in a traversal in the opposite direction. It is much more efficient when many variables are present. We have bookmarked the node.py file to be used in our implementation. Reverse mode seems to be a more complicated software problem to solve, so our main issue will most likely be working through solutions and ironing out bugs -- we are all confident that we are up to the task.\n",
    "\n",
    "If we finish this implementation in enough time, we are tentatively interested in also working on higher-order derivatives. However, this is entirely predicated on us finishing reverse mode, as we would prefer to have a thorough implementation of a common extension rather than trying to spread ourselves too thin.\n"
   ]
  }
 ],
 "metadata": {
  "kernelspec": {
   "display_name": "Python 3.9.15 64-bit ('3.9.15')",
   "language": "python",
   "name": "python3"
  },
  "language_info": {
   "codemirror_mode": {
    "name": "ipython",
    "version": 3
   },
   "file_extension": ".py",
   "mimetype": "text/x-python",
   "name": "python",
   "nbconvert_exporter": "python",
   "pygments_lexer": "ipython3",
   "version": "3.9.15"
  },
  "orig_nbformat": 4,
  "vscode": {
   "interpreter": {
    "hash": "c45d2d2507d6553f9850b8ddc5c07fa65f562af9b09fc6e3d5771bbbdf7b3f0f"
   }
  }
 },
 "nbformat": 4,
 "nbformat_minor": 2
}
